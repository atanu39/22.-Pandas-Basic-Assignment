{
 "cells": [
  {
   "cell_type": "markdown",
   "id": "c07ddef7-05ce-4d6c-a31a-dc61d315264e",
   "metadata": {},
   "source": [
    "# Q1. Create a Pandas Series that contains the following data: 4, 8, 15, 16, 23, and 42. Then, print the series."
   ]
  },
  {
   "cell_type": "markdown",
   "id": "583b7ebc-65e7-46aa-9c3d-298f04a50359",
   "metadata": {},
   "source": [
    "# Ans :"
   ]
  },
  {
   "cell_type": "code",
   "execution_count": 1,
   "id": "c058a085-cddc-4f0e-beaa-d3f61620c0b3",
   "metadata": {},
   "outputs": [
    {
     "name": "stdout",
     "output_type": "stream",
     "text": [
      "0     4\n",
      "1     8\n",
      "2    15\n",
      "3    16\n",
      "4    23\n",
      "5    42\n",
      "dtype: int64\n"
     ]
    }
   ],
   "source": [
    "import pandas as pd\n",
    "\n",
    "data = [4, 8, 15, 16, 23, 42]\n",
    "series = pd.Series(data)\n",
    "\n",
    "print(series)\n"
   ]
  },
  {
   "cell_type": "markdown",
   "id": "366c5089-44c3-4342-9a75-7a300ec8cb4e",
   "metadata": {},
   "source": [
    "# Q2. Create a variable of list type containing 10 elements in it, and apply pandas.Series function on the variable print it."
   ]
  },
  {
   "cell_type": "markdown",
   "id": "5c857916-bcd0-4526-8a32-8d19f7f8029c",
   "metadata": {},
   "source": [
    "# Ans :"
   ]
  },
  {
   "cell_type": "code",
   "execution_count": 2,
   "id": "ac06d4f5-23e3-4237-bfa7-156392769d00",
   "metadata": {},
   "outputs": [
    {
     "name": "stdout",
     "output_type": "stream",
     "text": [
      "0       apple\n",
      "1      banana\n",
      "2      carrot\n",
      "3     spinach\n",
      "4      orange\n",
      "5    broccoli\n",
      "6       grape\n",
      "7      tomato\n",
      "8     lettuce\n",
      "9        pear\n",
      "dtype: object\n"
     ]
    }
   ],
   "source": [
    "import pandas as pd\n",
    "\n",
    "fruits_vegetables = ['apple', 'banana', 'carrot', 'spinach', 'orange', 'broccoli', 'grape', 'tomato', 'lettuce', 'pear']\n",
    "series = pd.Series(fruits_vegetables)\n",
    "\n",
    "print(series)\n"
   ]
  },
  {
   "cell_type": "markdown",
   "id": "683a95de-09ef-4b42-ac66-a545658432dd",
   "metadata": {},
   "source": [
    "# Q3. Create a Pandas DataFrame that contains the following data:\n",
    "  Name == Age == Gender\n",
    "  \n",
    "  Alice == 25 == Female\n",
    "  \n",
    "   Bob == 30 == Male\n",
    "    \n",
    "  Claire == 27 == Female\n",
    "  \n",
    "Then, print the DataFrame."
   ]
  },
  {
   "cell_type": "markdown",
   "id": "fac2d44e-bcc5-44d4-8c14-6c0e9bcc5cf4",
   "metadata": {},
   "source": [
    "# Ans :"
   ]
  },
  {
   "cell_type": "code",
   "execution_count": 4,
   "id": "d586a40c-da12-4d71-8cd0-eabe8a0b7781",
   "metadata": {},
   "outputs": [
    {
     "name": "stdout",
     "output_type": "stream",
     "text": [
      "     Name  Age  Gender\n",
      "0   Rajib   25  Female\n",
      "1   Mohan   30    Male\n",
      "2  Ankita   27  Female\n"
     ]
    }
   ],
   "source": [
    "import pandas as pd\n",
    "\n",
    "data = {'Name': ['Rajib', 'Mohan', 'Ankita'],\n",
    "        'Age': [25, 30, 27],\n",
    "        'Gender': ['Male', 'Male', 'Female']}\n",
    "\n",
    "df = pd.DataFrame(data)\n",
    "\n",
    "print(df)\n"
   ]
  },
  {
   "cell_type": "markdown",
   "id": "7e3d91ea-63a3-4b84-a3bf-b342b07afd1d",
   "metadata": {},
   "source": [
    "# Q4. What is ‘DataFrame’ in pandas and how is it different from pandas.series? Explain with an example."
   ]
  },
  {
   "cell_type": "markdown",
   "id": "185d0abe-8118-4954-9077-b0bda13d1928",
   "metadata": {},
   "source": [
    "# Ans :"
   ]
  },
  {
   "cell_type": "markdown",
   "id": "ecbd38cc-8d78-493a-99b0-66490002704b",
   "metadata": {},
   "source": [
    "In pandas, a DataFrame is a two-dimensional data structure that represents tabular data in the form of rows and columns. It can be seen as a collection of Series objects, where each Series represents a column in the DataFrame. A DataFrame provides a powerful and flexible way to store, manipulate, and analyze structured data.\n",
    "\n",
    "Here are some key points differentiating a DataFrame from a pandas Series:\n",
    "\n",
    "1. Dimensionality: A Series is a one-dimensional labeled array, whereas a DataFrame is a two-dimensional structure.\n",
    "\n",
    "2. Structure: A Series represents a single column of data, while a DataFrame is a collection of columns where each column can be of a different data type. DataFrame allows for storing and working with multiple variables or features simultaneously.\n",
    "\n",
    "3. Indexing: A Series has a single index that provides a label for each element in the Series. In contrast, a DataFrame has two indices: one for the rows (the row index) and one for the columns (the column index). The row index allows access to individual rows, while the column index allows access to specific columns or groups of columns.\n",
    "\n",
    "4. Flexibility: While a Series is more suitable for working with one-dimensional data and performing operations on a single column, a DataFrame provides additional functionalities for handling tabular data. With a DataFrame, you can perform operations across columns, filter rows based on conditions, join or merge multiple DataFrames, pivot data, and more.\n",
    "\n",
    "\n",
    "To illustrate the difference, consider the following example:"
   ]
  },
  {
   "cell_type": "code",
   "execution_count": 6,
   "id": "738ddae8-1437-48cc-a0a4-fb92caf89055",
   "metadata": {},
   "outputs": [
    {
     "name": "stdout",
     "output_type": "stream",
     "text": [
      "Series:\n",
      "0    1\n",
      "1    2\n",
      "2    3\n",
      "3    4\n",
      "4    5\n",
      "dtype: int64\n",
      "\n",
      "DataFrame:\n",
      "     Name  Age  Gender\n",
      "0   Rajib   25    Male\n",
      "1   Mohan   30    Male\n",
      "2  Ankita   27  Female\n"
     ]
    }
   ],
   "source": [
    "import pandas as pd\n",
    "\n",
    "# Creating a Series\n",
    "series = pd.Series([1, 2, 3, 4, 5])\n",
    "print(\"Series:\")\n",
    "print(series)\n",
    "print()\n",
    "\n",
    "# Creating a DataFrame\n",
    "data = {'Name': ['Rajib', 'Mohan', 'Ankita'],\n",
    "        'Age': [25, 30, 27],\n",
    "        'Gender': ['Male', 'Male', 'Female']}\n",
    "df = pd.DataFrame(data)\n",
    "print(\"DataFrame:\")\n",
    "print(df)\n"
   ]
  },
  {
   "cell_type": "markdown",
   "id": "07da25e6-f654-4144-a823-8a20012e52fd",
   "metadata": {},
   "source": [
    "# Q5. What are some common functions you can use to manipulate data in a Pandas DataFrame? Can you give an example of when you might use one of these functions?"
   ]
  },
  {
   "cell_type": "markdown",
   "id": "a9480145-dcdf-4cb5-aaeb-425698a110b7",
   "metadata": {},
   "source": [
    "# Ans :"
   ]
  },
  {
   "cell_type": "markdown",
   "id": "c859fcb5-a928-4502-be34-c6baa84c34d6",
   "metadata": {},
   "source": [
    "Pandas provides a wide range of functions and methods to manipulate data in a DataFrame. Here are some common functions that are frequently used:\n",
    "\n",
    "1. head(): This function allows you to view the first few rows of the DataFrame. It is useful for inspecting the data and understanding its structure.\n",
    "\n",
    "2. tail(): This function is similar to head(), but it allows you to view the last few rows of the DataFrame.\n",
    "\n",
    "3. info(): This function provides a summary of the DataFrame, including the column names, data types, and the number of non-null values in each column. It helps in understanding the data types and identifying missing values.\n",
    "\n",
    "4. describe(): This function generates descriptive statistics of the numerical columns in the DataFrame, such as count, mean, standard deviation, minimum, maximum, and quartile values. It provides a quick overview of the distribution and summary statistics of the data.\n",
    "\n",
    "5. shape: This attribute returns a tuple representing the dimensions of the DataFrame (number of rows, number of columns).\n",
    "\n",
    "6. columns: This attribute returns a list of column names in the DataFrame.\n",
    "\n",
    "7. values: This attribute returns a 2D NumPy array containing the underlying data in the DataFrame.\n",
    "\n",
    "8. loc[] and iloc[]: These indexing methods allow you to access and manipulate specific rows and columns in the DataFrame using labels (loc[]) or integer-based indexing (iloc[]).\n",
    "\n",
    "9. drop(): This function allows you to remove rows or columns from the DataFrame based on specified labels or indices.\n",
    "\n",
    "10. fillna(): This function allows you to fill missing values in the DataFrame with a specified value or a calculated value, such as the mean or median.\n",
    "\n",
    "11. groupby(): This function is used for grouping the data based on one or more columns. It enables performing aggregations, such as sum, mean, count, etc., on the grouped data.\n",
    "\n",
    "12. sort_values(): This function allows you to sort the DataFrame based on one or more columns, either in ascending or descending order.\n",
    "\n",
    "These are just a few examples of common functions used to manipulate data in a Pandas DataFrame. Pandas provides a comprehensive set of functions and methods that enable data cleaning, transformation, filtering, aggregation, and various other operations to efficiently work with and analyze tabular data.\n",
    "\n",
    "\n",
    "\n",
    "\n",
    "\n"
   ]
  },
  {
   "cell_type": "code",
   "execution_count": 7,
   "id": "31a57e6e-1634-4af9-b14d-0519dd57f915",
   "metadata": {},
   "outputs": [
    {
     "name": "stdout",
     "output_type": "stream",
     "text": [
      "First few rows:\n",
      "       Name   Age  Gender\n",
      "0    Ankita  25.0  Female\n",
      "1    Binodh   NaN    Male\n",
      "2  Chandana  27.0  Female\n",
      "3  Dipankar  32.0    Male\n",
      "4       Ela  28.0  Female\n",
      "\n",
      "Last few rows:\n",
      "       Name   Age  Gender\n",
      "0    Ankita  25.0  Female\n",
      "1    Binodh   NaN    Male\n",
      "2  Chandana  27.0  Female\n",
      "3  Dipankar  32.0    Male\n",
      "4       Ela  28.0  Female\n",
      "\n",
      "Summary information:\n",
      "<class 'pandas.core.frame.DataFrame'>\n",
      "RangeIndex: 5 entries, 0 to 4\n",
      "Data columns (total 3 columns):\n",
      " #   Column  Non-Null Count  Dtype  \n",
      "---  ------  --------------  -----  \n",
      " 0   Name    5 non-null      object \n",
      " 1   Age     4 non-null      float64\n",
      " 2   Gender  5 non-null      object \n",
      "dtypes: float64(1), object(2)\n",
      "memory usage: 248.0+ bytes\n",
      "None\n",
      "\n",
      "Descriptive statistics:\n",
      "            Age\n",
      "count   4.00000\n",
      "mean   28.00000\n",
      "std     2.94392\n",
      "min    25.00000\n",
      "25%    26.50000\n",
      "50%    27.50000\n",
      "75%    29.00000\n",
      "max    32.00000\n",
      "\n",
      "Dimensions:\n",
      "(5, 3)\n",
      "\n",
      "Column names:\n",
      "Index(['Name', 'Age', 'Gender'], dtype='object')\n",
      "\n",
      "Underlying data:\n",
      "[['Ankita' 25.0 'Female']\n",
      " ['Binodh' nan 'Male']\n",
      " ['Chandana' 27.0 'Female']\n",
      " ['Dipankar' 32.0 'Male']\n",
      " ['Ela' 28.0 'Female']]\n",
      "\n",
      "Access specific rows and columns:\n",
      "       Name   Age\n",
      "1    Binodh   NaN\n",
      "2  Chandana  27.0\n",
      "3  Dipankar  32.0\n",
      "\n",
      "DataFrame after dropping 'Gender' column:\n",
      "       Name   Age\n",
      "0    Ankita  25.0\n",
      "1    Binodh   NaN\n",
      "2  Chandana  27.0\n",
      "3  Dipankar  32.0\n",
      "4       Ela  28.0\n",
      "\n",
      "DataFrame after filling missing values:\n",
      "       Name   Age  Gender\n",
      "0    Ankita  25.0  Female\n",
      "1    Binodh  28.0    Male\n",
      "2  Chandana  27.0  Female\n",
      "3  Dipankar  32.0    Male\n",
      "4       Ela  28.0  Female\n",
      "\n",
      "Grouped data:\n",
      "Gender\n",
      "Female    26.666667\n",
      "Male      32.000000\n",
      "Name: Age, dtype: float64\n",
      "\n",
      "Sorted DataFrame:\n",
      "       Name   Age  Gender\n",
      "3  Dipankar  32.0    Male\n",
      "4       Ela  28.0  Female\n",
      "2  Chandana  27.0  Female\n",
      "0    Ankita  25.0  Female\n",
      "1    Binodh   NaN    Male\n"
     ]
    }
   ],
   "source": [
    "import pandas as pd\n",
    "import numpy as np\n",
    "\n",
    "# Creating a sample DataFrame\n",
    "data = {'Name': ['Ankita', 'Binodh', 'Chandana', 'Dipankar', 'Ela'],\n",
    "        'Age': [25, np.nan, 27, 32, 28],\n",
    "        'Gender': ['Female', 'Male', 'Female', 'Male', 'Female']}\n",
    "df = pd.DataFrame(data)\n",
    "\n",
    "# View the first few rows using head()\n",
    "print(\"First few rows:\")\n",
    "print(df.head())\n",
    "print()\n",
    "\n",
    "# View the last few rows using tail()\n",
    "print(\"Last few rows:\")\n",
    "print(df.tail())\n",
    "print()\n",
    "\n",
    "# Get summary information using info()\n",
    "print(\"Summary information:\")\n",
    "print(df.info())\n",
    "print()\n",
    "\n",
    "# Generate descriptive statistics using describe()\n",
    "print(\"Descriptive statistics:\")\n",
    "print(df.describe())\n",
    "print()\n",
    "\n",
    "# Get the dimensions of the DataFrame using shape\n",
    "print(\"Dimensions:\")\n",
    "print(df.shape)\n",
    "print()\n",
    "\n",
    "# Get the column names using columns\n",
    "print(\"Column names:\")\n",
    "print(df.columns)\n",
    "print()\n",
    "\n",
    "# Get the underlying data as a 2D array using values\n",
    "print(\"Underlying data:\")\n",
    "print(df.values)\n",
    "print()\n",
    "\n",
    "# Access specific rows and columns using loc[]\n",
    "print(\"Access specific rows and columns:\")\n",
    "print(df.loc[1:3, 'Name':'Age'])\n",
    "print()\n",
    "\n",
    "# Remove rows or columns using drop()\n",
    "print(\"DataFrame after dropping 'Gender' column:\")\n",
    "df_dropped = df.drop('Gender', axis=1)\n",
    "print(df_dropped)\n",
    "print()\n",
    "\n",
    "# Fill missing values using fillna()\n",
    "print(\"DataFrame after filling missing values:\")\n",
    "df_filled = df.fillna({'Age': df['Age'].mean()})\n",
    "print(df_filled)\n",
    "print()\n",
    "\n",
    "# Group the data and perform aggregation using groupby()\n",
    "print(\"Grouped data:\")\n",
    "grouped_data = df.groupby('Gender')['Age'].mean()\n",
    "print(grouped_data)\n",
    "print()\n",
    "\n",
    "# Sort the DataFrame based on 'Age' column using sort_values()\n",
    "print(\"Sorted DataFrame:\")\n",
    "df_sorted = df.sort_values('Age', ascending=False)\n",
    "print(df_sorted)\n"
   ]
  },
  {
   "cell_type": "markdown",
   "id": "e989bcf3-0621-482f-b946-6b759b0c2b58",
   "metadata": {},
   "source": [
    "# Q6. Which of the following is mutable in nature Series, DataFrame, Panel?"
   ]
  },
  {
   "cell_type": "markdown",
   "id": "9c347809-6ce2-48dc-9574-2652cb27071a",
   "metadata": {},
   "source": [
    "# Ans :"
   ]
  },
  {
   "cell_type": "markdown",
   "id": "3bc48803-5470-43e8-96aa-a9c18985eac3",
   "metadata": {},
   "source": [
    "Among the options provided, both the Series and the DataFrame are mutable in nature, while the Panel is not mutable.\n",
    "\n",
    "In pandas, a mutable object is one that can be modified after it is created. Here's a breakdown of the mutability of each object:\n",
    "\n",
    "1. Series: Mutable\n",
    "\n",
    "    * A pandas Series is mutable, meaning you can change its values, add or remove elements, or modify the index.For example, you can update the values of a Series using assignment or apply operations like addition, subtraction, etc.\n",
    "    \n",
    "2. DataFrame: Mutable\n",
    "\n",
    "    * A pandas DataFrame is also mutable, allowing you to modify its values, add or remove columns, or perform various transformations.For example, you can update specific cells, add new columns, or apply functions to transform the existing data.\n",
    "\n",
    "3. Panel: Immutable\n",
    "\n",
    "    * A pandas Panel is an object that was used in earlier versions of pandas for handling three-dimensional data.However, the Panel data structure has been deprecated in recent versions of pandas (since version 0.20.0) in favor of more flexible alternatives like MultiIndex DataFrames.Panels were immutable in nature, meaning they couldn't be modified once created. They were intended for handling static data."
   ]
  },
  {
   "cell_type": "markdown",
   "id": "a8d6e6ce-97a0-4a5c-9e56-b63dcacabbc0",
   "metadata": {},
   "source": [
    "# Q7. Create a DataFrame using multiple Series. Explain with an example."
   ]
  },
  {
   "cell_type": "markdown",
   "id": "593d60cd-ea7a-4ca9-b59f-122a0932103f",
   "metadata": {},
   "source": [
    "# Ans :"
   ]
  },
  {
   "cell_type": "markdown",
   "id": "34971556-561c-4066-8281-838e55f9ad22",
   "metadata": {},
   "source": [
    "To create a DataFrame using multiple Series, you can combine the Series objects into a dictionary and then pass the dictionary as an argument to the pd.DataFrame() constructor. Each Series will correspond to a column in the resulting DataFrame.\n",
    "\n",
    "Here's an example that demonstrates how to create a DataFrame using multiple Series:"
   ]
  },
  {
   "cell_type": "code",
   "execution_count": 10,
   "id": "eaada05e-7a85-4495-bd34-eec846dca1f7",
   "metadata": {},
   "outputs": [
    {
     "name": "stdout",
     "output_type": "stream",
     "text": [
      "Series:\n",
      "0     Ravi\n",
      "1    Priya\n",
      "2    Aarav\n",
      "dtype: object\n",
      "0    32\n",
      "1    28\n",
      "2    25\n",
      "dtype: int64\n",
      "0      Male\n",
      "1    Female\n",
      "2      Male\n",
      "dtype: object\n",
      "Combined into DataFeame:\n",
      "    Name  Age  Gender\n",
      "0   Ravi   32    Male\n",
      "1  Priya   28  Female\n",
      "2  Aarav   25    Male\n"
     ]
    }
   ],
   "source": [
    "import pandas as pd\n",
    "\n",
    "# Creating Series objects\n",
    "name_series = pd.Series(['Ravi', 'Priya', 'Aarav'])\n",
    "age_series = pd.Series([32, 28, 25])\n",
    "gender_series = pd.Series(['Male', 'Female', 'Male'])\n",
    "\n",
    "# Printing the Series\n",
    "print(\"Series:\")\n",
    "print(name_series)\n",
    "print(age_series)\n",
    "print(gender_series)\n",
    "\n",
    "# Creating a DataFrame using multiple Series\n",
    "data = {'Name': name_series,\n",
    "        'Age': age_series,\n",
    "        'Gender': gender_series}\n",
    "df = pd.DataFrame(data)\n",
    "\n",
    "# Printing the DataFrame\n",
    "print(\"Combined into DataFeame:\")\n",
    "print(df)\n"
   ]
  },
  {
   "cell_type": "code",
   "execution_count": null,
   "id": "8276f1ae-9481-4f67-a961-7b2db31ccc87",
   "metadata": {},
   "outputs": [],
   "source": []
  }
 ],
 "metadata": {
  "kernelspec": {
   "display_name": "Python 3 (ipykernel)",
   "language": "python",
   "name": "python3"
  },
  "language_info": {
   "codemirror_mode": {
    "name": "ipython",
    "version": 3
   },
   "file_extension": ".py",
   "mimetype": "text/x-python",
   "name": "python",
   "nbconvert_exporter": "python",
   "pygments_lexer": "ipython3",
   "version": "3.10.8"
  }
 },
 "nbformat": 4,
 "nbformat_minor": 5
}
